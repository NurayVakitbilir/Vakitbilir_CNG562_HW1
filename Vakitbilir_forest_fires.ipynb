{
  "nbformat": 4,
  "nbformat_minor": 0,
  "metadata": {
    "colab": {
      "name": "Vakitbilir_forest_fires.ipynb",
      "version": "0.3.2",
      "provenance": [],
      "collapsed_sections": [
        "iBV_LTfBWZ8x",
        "O86Db4WHPXNO",
        "d8DK4zDpJp_P",
        "gl1GSSygJsRV",
        "5wVGTQ2mJvgH",
        "_t_G-i3OJ0IP",
        "U75f493xJ6fe",
        "VcqDyyGyQGMz",
        "Mgi9nP-6NcZv",
        "CS3imwi8Wj3N"
      ],
      "include_colab_link": true
    },
    "kernelspec": {
      "display_name": "Python 3",
      "language": "python",
      "name": "python3"
    }
  },
  "cells": [
    {
      "cell_type": "markdown",
      "metadata": {
        "id": "view-in-github",
        "colab_type": "text"
      },
      "source": [
        "<a href=\"https://colab.research.google.com/github/NurayVakitbilir/Vakitbilir_CNG562_HW1/blob/master/Vakitbilir_forest_fires.ipynb\" target=\"_parent\"><img src=\"https://colab.research.google.com/assets/colab-badge.svg\" alt=\"Open In Colab\"/></a>"
      ]
    },
    {
      "metadata": {
        "id": "iBV_LTfBWZ8x",
        "colab_type": "text"
      },
      "cell_type": "markdown",
      "source": [
        "# Forestfires Regression"
      ]
    },
    {
      "metadata": {
        "id": "m3e2tkGYDo8A",
        "colab_type": "code",
        "colab": {}
      },
      "cell_type": "code",
      "source": [
        "import numpy as np\n",
        "import pandas as pd\n",
        "from sklearn.metrics import mean_squared_error as mse\n",
        "from sklearn.model_selection import train_test_split, cross_val_score, GridSearchCV\n",
        "from sklearn import preprocessing \n"
      ],
      "execution_count": 0,
      "outputs": []
    },
    {
      "metadata": {
        "id": "qEkxBorcDo8G",
        "colab_type": "code",
        "colab": {}
      },
      "cell_type": "code",
      "source": [
        "import warnings \n",
        "warnings.filterwarnings('ignore')"
      ],
      "execution_count": 0,
      "outputs": []
    },
    {
      "metadata": {
        "id": "UlIFGoJ5PV7L",
        "colab_type": "text"
      },
      "cell_type": "markdown",
      "source": [
        "## **Importing the data**"
      ]
    },
    {
      "metadata": {
        "id": "wVOIUCugDo8K",
        "colab_type": "code",
        "colab": {}
      },
      "cell_type": "code",
      "source": [
        "data_url='http://www.dsi.uminho.pt/~pcortez/forestfires/forestfires.csv'\n",
        "fires=pd.read_csv(data_url)"
      ],
      "execution_count": 0,
      "outputs": []
    },
    {
      "metadata": {
        "id": "O86Db4WHPXNO",
        "colab_type": "text"
      },
      "cell_type": "markdown",
      "source": [
        "## **Data Preparation**"
      ]
    },
    {
      "metadata": {
        "id": "Qfwi5zXyDo8O",
        "colab_type": "code",
        "colab": {}
      },
      "cell_type": "code",
      "source": [
        "fires.month.replace(('jan','feb','mar','apr','may','jun','jul','aug','sep','oct','nov','dec'),\n",
        "                        (1,2,3,4,5,6,7,8,9,10,11,12), inplace=True)\n",
        "fires.day.replace(('mon','tue','wed','thu','fri','sat','sun'),\n",
        "                       (1,2,3,4,5,6,7), inplace=True)"
      ],
      "execution_count": 0,
      "outputs": []
    },
    {
      "metadata": {
        "id": "pwl2Gu8DDo8W",
        "colab_type": "code",
        "colab": {}
      },
      "cell_type": "code",
      "source": [
        "X = fires.drop('area', axis=1)\n",
        "y = fires.area"
      ],
      "execution_count": 0,
      "outputs": []
    },
    {
      "metadata": {
        "id": "ynHi7I9cDo8a",
        "colab_type": "code",
        "colab": {}
      },
      "cell_type": "code",
      "source": [
        "X_scaled = preprocessing.scale(X)\n",
        "y_scaled = preprocessing.scale(y)"
      ],
      "execution_count": 0,
      "outputs": []
    },
    {
      "metadata": {
        "id": "FSxsSX6ODo8e",
        "colab_type": "code",
        "colab": {}
      },
      "cell_type": "code",
      "source": [
        "X_train, X_test, y_train, y_test = train_test_split(X_scaled, y_scaled, test_size = 0.3, random_state = 1)"
      ],
      "execution_count": 0,
      "outputs": []
    },
    {
      "metadata": {
        "id": "d8DK4zDpJp_P",
        "colab_type": "text"
      },
      "cell_type": "markdown",
      "source": [
        "## **Training**"
      ]
    },
    {
      "metadata": {
        "id": "gl1GSSygJsRV",
        "colab_type": "text"
      },
      "cell_type": "markdown",
      "source": [
        "### *Linear Regression*"
      ]
    },
    {
      "metadata": {
        "id": "MSYMfNFxDo8o",
        "colab_type": "code",
        "colab": {
          "base_uri": "https://localhost:8080/",
          "height": 105
        },
        "outputId": "30e367a5-b2e4-4ccc-e335-fc73328ad6de"
      },
      "cell_type": "code",
      "source": [
        "from sklearn.linear_model import LinearRegression\n",
        "linreg = LinearRegression(normalize=True).fit(X_train, y_train)\n",
        "print('MSE for Linear Regression training:', mse(y_train, linreg.predict(X_train)))\n",
        "print('MSE for Linear Regression testing:', mse(y_test, linreg.predict(X_test)))\n",
        "print('Score for Linear Regression training:', linreg.score(X_train, y_train))\n",
        "print('Score for Linear Regression testing:', linreg.score(X_test, y_test))"
      ],
      "execution_count": 8,
      "outputs": [
        {
          "output_type": "stream",
          "text": [
            "MSE for Linear Regression training: 0.9899957510358671\n",
            "MSE for Linear Regression testing: 0.975300611915431\n",
            "Score for Linear Regression training: 0.01859543492513238\n",
            "Score for Linear Regression testing: 0.0045291311337865015\n"
          ],
          "name": "stdout"
        }
      ]
    },
    {
      "metadata": {
        "id": "5wVGTQ2mJvgH",
        "colab_type": "text"
      },
      "cell_type": "markdown",
      "source": [
        "### *Decision Tree Regression*"
      ]
    },
    {
      "metadata": {
        "id": "kLzhY45uDo8z",
        "colab_type": "code",
        "colab": {
          "base_uri": "https://localhost:8080/",
          "height": 105
        },
        "outputId": "ecfffec6-6ba9-4797-9f3a-d7727b310ff6"
      },
      "cell_type": "code",
      "source": [
        "from sklearn.tree import DecisionTreeRegressor\n",
        "treereg = DecisionTreeRegressor\n",
        "tree = treereg(criterion='friedman_mse', splitter='best', max_depth=5, \n",
        "                min_samples_leaf=2, max_features=4,random_state=2, max_leaf_nodes=2, \n",
        "                min_impurity_split=0.0003, presort=True).fit(X_train, y_train)\n",
        "print('MSE for Decision tree training:', mse(y_train, tree.predict(X_train)))\n",
        "print('MSE for Decision tree testing:', mse(y_test, tree.predict(X_test)))\n",
        "print('Score for Decision tree training:', tree.score(X_train, y_train))\n",
        "print('Score for Decision tree testing:', tree.score(X_test, y_test))"
      ],
      "execution_count": 9,
      "outputs": [
        {
          "output_type": "stream",
          "text": [
            "MSE for Decision tree training: 0.9974510521621663\n",
            "MSE for Decision tree testing: 0.9641532133683953\n",
            "Score for Decision tree training: 0.011204830923345344\n",
            "Score for Decision tree testing: 0.015907069773055893\n"
          ],
          "name": "stdout"
        }
      ]
    },
    {
      "metadata": {
        "id": "_t_G-i3OJ0IP",
        "colab_type": "text"
      },
      "cell_type": "markdown",
      "source": [
        "### *K-Neighbors Regression*"
      ]
    },
    {
      "metadata": {
        "id": "yQ__YOo7Do9N",
        "colab_type": "code",
        "colab": {
          "base_uri": "https://localhost:8080/",
          "height": 105
        },
        "outputId": "c637e5cf-bdfd-4f4e-ebd2-e17ea608e2a4"
      },
      "cell_type": "code",
      "source": [
        "from sklearn.neighbors import KNeighborsRegressor\n",
        "knn = KNeighborsRegressor(n_neighbors=15, leaf_size=25, p=6).fit(X_train, y_train)\n",
        "print('MSE for KNN training:', mse(y_train, knn.predict(X_train)))\n",
        "print('MSE for KNN testing:', mse(y_test, knn.predict(X_test)))\n",
        "print('Score for KNN training:', knn.score(X_train, y_train))\n",
        "print('Score for KNN testing:', knn.score(X_test, y_test))"
      ],
      "execution_count": 10,
      "outputs": [
        {
          "output_type": "stream",
          "text": [
            "MSE for KNN training: 0.9351178547593144\n",
            "MSE for KNN testing: 0.9639404763991155\n",
            "Score for KNN training: 0.07299710066072884\n",
            "Score for KNN testing: 0.01612420636977452\n"
          ],
          "name": "stdout"
        }
      ]
    },
    {
      "metadata": {
        "id": "OgBSKjL4U_Mt",
        "colab_type": "text"
      },
      "cell_type": "markdown",
      "source": [
        "***None of the training algorithms are converging well.***"
      ]
    },
    {
      "metadata": {
        "id": "U75f493xJ6fe",
        "colab_type": "text"
      },
      "cell_type": "markdown",
      "source": [
        "## **Grid Search and Cross Validation**"
      ]
    },
    {
      "metadata": {
        "id": "LzHObvSsQFVG",
        "colab_type": "code",
        "colab": {}
      },
      "cell_type": "code",
      "source": [
        "from sklearn.model_selection import GridSearchCV"
      ],
      "execution_count": 0,
      "outputs": []
    },
    {
      "metadata": {
        "id": "VcqDyyGyQGMz",
        "colab_type": "text"
      },
      "cell_type": "markdown",
      "source": [
        "### *Decision Tree Regression*"
      ]
    },
    {
      "metadata": {
        "id": "OUTb5eCmNodL",
        "colab_type": "code",
        "colab": {
          "base_uri": "https://localhost:8080/",
          "height": 88
        },
        "outputId": "ce31b9e3-2a97-430b-e57a-85a934fe033a"
      },
      "cell_type": "code",
      "source": [
        "tree = DecisionTreeRegressor()\n",
        "parameters = {'criterion':('friedman_mse','mse'), 'splitter':('best','random'), 'min_samples_leaf':(2,3,4),\n",
        "              'max_depth':(2,3,5,6),'max_features':(3,4,5),'random_state':(10,50,100)}\n",
        "gscvtree = GridSearchCV(estimator = tree, param_grid = parameters, n_jobs=-1, cv=5).fit(X_train, y_train)\n",
        "print(gscvtree.best_params_)\n",
        "print('Score for Decision tree training:', gscvtree.score(X_train, y_train))\n",
        "print('Score for Decision tree testing:', gscvtree.score(X_test, y_test))"
      ],
      "execution_count": 12,
      "outputs": [
        {
          "output_type": "stream",
          "text": [
            "{'criterion': 'friedman_mse', 'max_depth': 2, 'max_features': 3, 'min_samples_leaf': 2, 'random_state': 10, 'splitter': 'random'}\n",
            "Score for Decision tree training: 0.0018016984254046742\n",
            "Score for Decision tree testing: -0.00017264166213082355\n"
          ],
          "name": "stdout"
        }
      ]
    },
    {
      "metadata": {
        "id": "Mgi9nP-6NcZv",
        "colab_type": "text"
      },
      "cell_type": "markdown",
      "source": [
        "### *K-Neighbors Regression*"
      ]
    },
    {
      "metadata": {
        "id": "fCXw27rtDo9Z",
        "colab_type": "code",
        "colab": {
          "base_uri": "https://localhost:8080/",
          "height": 88
        },
        "outputId": "325f60e7-0d8b-4f56-ed3f-d8fd64bb4419"
      },
      "cell_type": "code",
      "source": [
        "from sklearn.model_selection import GridSearchCV\n",
        "knn = KNeighborsRegressor()\n",
        "parameters = {'n_neighbors': (1,2,3,5,10,15,20), 'leaf_size': (10, 20,30,40), 'p' : (1,2,4,7)}\n",
        "gscvknn = GridSearchCV(estimator = knn, param_grid = parameters, n_jobs=-1, cv=5).fit(X_train, y_train)\n",
        "print(gscvknn.best_params_)\n",
        "print('Score for KNN training:', gscvknn.score(X_train, y_train))\n",
        "print('Score for KNN testing:', gscvknn.score(X_test, y_test))"
      ],
      "execution_count": 13,
      "outputs": [
        {
          "output_type": "stream",
          "text": [
            "{'leaf_size': 10, 'n_neighbors': 20, 'p': 2}\n",
            "Score for KNN training: 0.055835901127419874\n",
            "Score for KNN testing: -0.0005900958848872317\n"
          ],
          "name": "stdout"
        }
      ]
    },
    {
      "metadata": {
        "id": "OZiGpTPQUrhH",
        "colab_type": "text"
      },
      "cell_type": "markdown",
      "source": [
        "***Grid search and cross validation results show that for Forest fires dataset, KNN and Decision Tree are not converging well.***"
      ]
    },
    {
      "metadata": {
        "id": "CS3imwi8Wj3N",
        "colab_type": "text"
      },
      "cell_type": "markdown",
      "source": [
        "# Binary Classification"
      ]
    },
    {
      "metadata": {
        "id": "MIS4OkemZ4qE",
        "colab_type": "code",
        "colab": {}
      },
      "cell_type": "code",
      "source": [
        "from sklearn.metrics import accuracy_score"
      ],
      "execution_count": 0,
      "outputs": []
    },
    {
      "metadata": {
        "id": "R29FCGssW1aY",
        "colab_type": "code",
        "colab": {}
      },
      "cell_type": "code",
      "source": [
        "y_bin = 1.0 * (fires['area']>35) #threshold is set to 35."
      ],
      "execution_count": 0,
      "outputs": []
    },
    {
      "metadata": {
        "id": "TFeoQIYLYHjl",
        "colab_type": "code",
        "colab": {}
      },
      "cell_type": "code",
      "source": [
        "X_train, X_test, y_train, y_test = train_test_split(X_scaled, y_bin, test_size = 0.3, random_state = 3)"
      ],
      "execution_count": 0,
      "outputs": []
    },
    {
      "metadata": {
        "id": "9t6A7B09aoFI",
        "colab_type": "text"
      },
      "cell_type": "markdown",
      "source": [
        "### *Logistic Regression*"
      ]
    },
    {
      "metadata": {
        "id": "QuygDLJWZoz6",
        "colab_type": "code",
        "colab": {
          "base_uri": "https://localhost:8080/",
          "height": 51
        },
        "outputId": "7d5a5deb-0422-48b8-b8b2-c641be6f9a38"
      },
      "cell_type": "code",
      "source": [
        "from sklearn.linear_model import LogisticRegression\n",
        "log_reg = LogisticRegression(random_state=5,solver='lbfgs',multi_class='ovr').fit(X_train, y_train)\n",
        "print('Accuracy for Logistic Regression traning:', accuracy_score(y_train, log_reg.predict(X_train)))\n",
        "print('Accuracy for Logistic Regression test:', accuracy_score(y_test, log_reg.predict(X_test)))"
      ],
      "execution_count": 17,
      "outputs": [
        {
          "output_type": "stream",
          "text": [
            "Accuracy for Logistic Regression traning: 0.925207756232687\n",
            "Accuracy for Logistic Regression test: 0.9358974358974359\n"
          ],
          "name": "stdout"
        }
      ]
    },
    {
      "metadata": {
        "id": "j2XkQFtWapvv",
        "colab_type": "text"
      },
      "cell_type": "markdown",
      "source": [
        "### *Decision Tree Classifier*"
      ]
    },
    {
      "metadata": {
        "id": "TBdWCjT2Z_pF",
        "colab_type": "code",
        "colab": {
          "base_uri": "https://localhost:8080/",
          "height": 51
        },
        "outputId": "c6547e85-6fe7-47ce-b9ea-db5dcaa26b89"
      },
      "cell_type": "code",
      "source": [
        "from sklearn.tree import DecisionTreeClassifier \n",
        "tree = DecisionTreeClassifier(max_depth=2,max_leaf_nodes=5, random_state=45).fit(X_train, y_train)\n",
        "print('Accuracy for Decision tree training:', accuracy_score(y_train, tree.predict(X_train)))\n",
        "print('Accuracy for Decision tree testing:', accuracy_score(y_test, tree.predict(X_test)))"
      ],
      "execution_count": 18,
      "outputs": [
        {
          "output_type": "stream",
          "text": [
            "Accuracy for Decision tree training: 0.9335180055401662\n",
            "Accuracy for Decision tree testing: 0.9294871794871795\n"
          ],
          "name": "stdout"
        }
      ]
    },
    {
      "metadata": {
        "id": "KWouTQG7a35M",
        "colab_type": "text"
      },
      "cell_type": "markdown",
      "source": [
        "### *Support Vector Classifier*"
      ]
    },
    {
      "metadata": {
        "id": "nf1_zSMeawx-",
        "colab_type": "code",
        "colab": {
          "base_uri": "https://localhost:8080/",
          "height": 51
        },
        "outputId": "7a282ef1-0705-4c90-c5aa-4aa27c9c2e64"
      },
      "cell_type": "code",
      "source": [
        "from sklearn.svm import SVC\n",
        "svc = SVC(C=2, kernel='rbf',max_iter=5, tol=0.001, random_state=5).fit(X_train, y_train)\n",
        "print('Accuracy for Support Vector Machine traning:', accuracy_score(y_train, svc.predict(X_train)))\n",
        "print('Accuracy for Support Vector Machine testing:', accuracy_score(y_test, svc.predict(X_test)))"
      ],
      "execution_count": 19,
      "outputs": [
        {
          "output_type": "stream",
          "text": [
            "Accuracy for Support Vector Machine traning: 0.703601108033241\n",
            "Accuracy for Support Vector Machine testing: 0.7564102564102564\n"
          ],
          "name": "stdout"
        }
      ]
    },
    {
      "metadata": {
        "id": "dH60PnIhbcIK",
        "colab_type": "text"
      },
      "cell_type": "markdown",
      "source": [
        "### *K-Neighbors Classifier*"
      ]
    },
    {
      "metadata": {
        "id": "-u4RwvBia7Rs",
        "colab_type": "code",
        "colab": {
          "base_uri": "https://localhost:8080/",
          "height": 51
        },
        "outputId": "cace9a1c-9e71-40ff-8040-315d851da9f1"
      },
      "cell_type": "code",
      "source": [
        "from sklearn.neighbors import KNeighborsClassifier\n",
        "knn = KNeighborsClassifier(n_neighbors=5,p=2).fit(X_train, y_train)\n",
        "print('Accuracy for KNN training:', accuracy_score(y_train, knn.predict(X_train)))\n",
        "print('Accuracy for KNN testing:', accuracy_score(y_test, knn.predict(X_test)))"
      ],
      "execution_count": 20,
      "outputs": [
        {
          "output_type": "stream",
          "text": [
            "Accuracy for KNN training: 0.925207756232687\n",
            "Accuracy for KNN testing: 0.9358974358974359\n"
          ],
          "name": "stdout"
        }
      ]
    },
    {
      "metadata": {
        "id": "ieu6a70qcfnl",
        "colab_type": "text"
      },
      "cell_type": "markdown",
      "source": [
        "**Applying binary classification improved the scores of KNN, Decision Tree and Logistic Regression greatly, whereas Support Vector Machines is not improved to the same performance.**"
      ]
    }
  ]
}