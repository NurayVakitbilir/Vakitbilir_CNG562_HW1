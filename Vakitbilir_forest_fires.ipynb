{
  "nbformat": 4,
  "nbformat_minor": 0,
  "metadata": {
    "colab": {
      "name": "Vakitbilir_forest_fires.ipynb",
      "version": "0.3.2",
      "provenance": [],
      "collapsed_sections": [],
      "include_colab_link": true
    },
    "kernelspec": {
      "display_name": "Python 3",
      "language": "python",
      "name": "python3"
    }
  },
  "cells": [
    {
      "cell_type": "markdown",
      "metadata": {
        "id": "view-in-github",
        "colab_type": "text"
      },
      "source": [
        "<a href=\"https://colab.research.google.com/github/NurayVakitbilir/Vakitbilir_CNG562_HW1/blob/master/Vakitbilir_forest_fires.ipynb\" target=\"_parent\"><img src=\"https://colab.research.google.com/assets/colab-badge.svg\" alt=\"Open In Colab\"/></a>"
      ]
    },
    {
      "metadata": {
        "id": "Wsuf9BfT5o8r",
        "colab_type": "code",
        "colab": {}
      },
      "cell_type": "code",
      "source": [
        "import numpy as np\n",
        "import pandas as pd\n",
        "from sklearn.metrics import mean_squared_error as mse\n",
        "from sklearn.model_selection import train_test_split, cross_val_score, TimeSeriesSplit, GridSearchCV\n",
        "from sklearn import preprocessing \n",
        "from sklearn.pipeline import Pipeline"
      ],
      "execution_count": 0,
      "outputs": []
    },
    {
      "metadata": {
        "id": "t2IIs1WD5o8x",
        "colab_type": "code",
        "colab": {}
      },
      "cell_type": "code",
      "source": [
        "import warnings \n",
        "warnings.filterwarnings('ignore')"
      ],
      "execution_count": 0,
      "outputs": []
    },
    {
      "metadata": {
        "id": "uZ2EJkG45o81",
        "colab_type": "code",
        "colab": {}
      },
      "cell_type": "code",
      "source": [
        "data_url='http://www.dsi.uminho.pt/~pcortez/forestfires/forestfires.csv'\n",
        "fires=pd.read_csv(data_url)"
      ],
      "execution_count": 0,
      "outputs": []
    },
    {
      "metadata": {
        "id": "ufmf-1yc5o85",
        "colab_type": "code",
        "colab": {}
      },
      "cell_type": "code",
      "source": [
        "fires.month.replace(('jan','feb','mar','apr','may','jun','jul','aug','sep','oct','nov','dec'),\n",
        "                        (1,2,3,4,5,6,7,8,9,10,11,12), inplace=True)\n",
        "fires.day.replace(('mon','tue','wed','thu','fri','sat','sun'),\n",
        "                       (1,2,3,4,5,6,7), inplace=True)"
      ],
      "execution_count": 0,
      "outputs": []
    },
    {
      "metadata": {
        "id": "ATMQPkpk5o8-",
        "colab_type": "code",
        "colab": {}
      },
      "cell_type": "code",
      "source": [
        "#fires.area.replace((0),(1), inplace=True)\n",
        "#fires_area = fires.area.apply(np.log)\n",
        "#y = fires_area"
      ],
      "execution_count": 0,
      "outputs": []
    },
    {
      "metadata": {
        "id": "pn57mcgu5o9G",
        "colab_type": "code",
        "colab": {}
      },
      "cell_type": "code",
      "source": [
        "#X_train, X_test, y_train, y_test = train_test_split(X_scaled, y, test_size = 0.3, random_state =60)"
      ],
      "execution_count": 0,
      "outputs": []
    },
    {
      "metadata": {
        "id": "QDGbzMoU5o9C",
        "colab_type": "code",
        "colab": {}
      },
      "cell_type": "code",
      "source": [
        "X = fires.drop('area', axis=1)\n",
        "y = fires.area\n",
        "X_scaled = preprocessing.scale(X)\n",
        "y_scaled = preprocessing.scale(y)"
      ],
      "execution_count": 0,
      "outputs": []
    },
    {
      "metadata": {
        "id": "pNsZEoKt5o9K",
        "colab_type": "code",
        "colab": {}
      },
      "cell_type": "code",
      "source": [
        "X_train, X_test, y_train, y_test = train_test_split(X_scaled, y_scaled, test_size = 0.3, random_state = 29)"
      ],
      "execution_count": 0,
      "outputs": []
    },
    {
      "metadata": {
        "id": "jDkLmXcR5o9T",
        "colab_type": "code",
        "colab": {
          "base_uri": "https://localhost:8080/",
          "height": 51
        },
        "outputId": "90bafa01-f79c-492f-b580-5b4b2ed71ac6"
      },
      "cell_type": "code",
      "source": [
        "from sklearn.linear_model import LinearRegression\n",
        "linreg = LinearRegression(normalize=True).fit(X_train, y_train)\n",
        "print('MSE as traning for Linear Regression:', mse(y_train, linreg.predict(X_train)))\n",
        "print('MSE as test for Linear Regression:', mse(y_test, linreg.predict(X_test)))"
      ],
      "execution_count": 9,
      "outputs": [
        {
          "output_type": "stream",
          "text": [
            "MSE as traning for Linear Regression: 1.3694885894786637\n",
            "MSE as test for Linear Regression: 0.08486023554734551\n"
          ],
          "name": "stdout"
        }
      ]
    },
    {
      "metadata": {
        "id": "ElLn5cqw5o9c",
        "colab_type": "code",
        "colab": {
          "base_uri": "https://localhost:8080/",
          "height": 51
        },
        "outputId": "9f69f59f-3551-4bc5-9e97-75cba9d350dc"
      },
      "cell_type": "code",
      "source": [
        "from sklearn.tree import DecisionTreeRegressor\n",
        "treereg = DecisionTreeRegressor\n",
        "tree = treereg(criterion='friedman_mse', splitter='best', max_depth=None, \n",
        "                min_samples_leaf=2, max_features=4,random_state=23, max_leaf_nodes=2, \n",
        "                min_impurity_split=0.0003, presort=True).fit(X_train, y_train)\n",
        "print('MSE as for train decision tree:', mse(y_train, tree.predict(X_train)))\n",
        "print('MSE as for test decision tree:', mse(y_test, tree.predict(X_test)))"
      ],
      "execution_count": 10,
      "outputs": [
        {
          "output_type": "stream",
          "text": [
            "MSE as for train decision tree: 1.3967483682200594\n",
            "MSE as for test decision tree: 0.06008124470526529\n"
          ],
          "name": "stdout"
        }
      ]
    },
    {
      "metadata": {
        "id": "b5VPlNf_5o9h",
        "colab_type": "code",
        "colab": {
          "base_uri": "https://localhost:8080/",
          "height": 34
        },
        "outputId": "9a192f7c-c7fb-4070-e932-6c6866280694"
      },
      "cell_type": "code",
      "source": [
        "tree.score(X_train, y_train)"
      ],
      "execution_count": 11,
      "outputs": [
        {
          "output_type": "execute_result",
          "data": {
            "text/plain": [
              "0.010747586701038592"
            ]
          },
          "metadata": {
            "tags": []
          },
          "execution_count": 11
        }
      ]
    },
    {
      "metadata": {
        "id": "QPhjMRKM5o9n",
        "colab_type": "code",
        "colab": {
          "base_uri": "https://localhost:8080/",
          "height": 34
        },
        "outputId": "66f61fff-8c8d-4f5c-967b-b530b5073ee0"
      },
      "cell_type": "code",
      "source": [
        "tree.score(X_test, y_test)"
      ],
      "execution_count": 12,
      "outputs": [
        {
          "output_type": "execute_result",
          "data": {
            "text/plain": [
              "-1.2340162981551104"
            ]
          },
          "metadata": {
            "tags": []
          },
          "execution_count": 12
        }
      ]
    },
    {
      "metadata": {
        "id": "FeCaDNqv5o9s",
        "colab_type": "code",
        "colab": {
          "base_uri": "https://localhost:8080/",
          "height": 34
        },
        "outputId": "c9336378-51ee-4c7a-beb2-3fdfe11b6fcd"
      },
      "cell_type": "code",
      "source": [
        "regressor = DecisionTreeRegressor(max_depth=0.5, max_leaf_nodes=18, random_state=100)\n",
        "cross_val_score(regressor, X_scaled, y, cv=4)"
      ],
      "execution_count": 13,
      "outputs": [
        {
          "output_type": "execute_result",
          "data": {
            "text/plain": [
              "array([ 0.        , -0.040791  , -0.03952981, -0.04562447])"
            ]
          },
          "metadata": {
            "tags": []
          },
          "execution_count": 13
        }
      ]
    },
    {
      "metadata": {
        "id": "4ljwo8UI5o9z",
        "colab_type": "code",
        "colab": {
          "base_uri": "https://localhost:8080/",
          "height": 51
        },
        "outputId": "d4f7d4cc-ee09-4ea6-c8a1-a3cd3af2fa3c"
      },
      "cell_type": "code",
      "source": [
        "from sklearn.neighbors import KNeighborsRegressor\n",
        "knn = KNeighborsRegressor(n_neighbors=15, leaf_size=25, p=6).fit(X_train, y_train)\n",
        "print('MSE as for train decision tree:', mse(y_train, knn.predict(X_train)))\n",
        "print('MSE as for test decision tree:', mse(y_test, knn.predict(X_test)))"
      ],
      "execution_count": 14,
      "outputs": [
        {
          "output_type": "stream",
          "text": [
            "MSE as for train decision tree: 1.3614822026248186\n",
            "MSE as for test decision tree: 0.146863022525921\n"
          ],
          "name": "stdout"
        }
      ]
    },
    {
      "metadata": {
        "id": "cEfU3Bqt5o94",
        "colab_type": "code",
        "colab": {
          "base_uri": "https://localhost:8080/",
          "height": 34
        },
        "outputId": "b3532e2d-4525-4a43-d7f0-54bb11f34438"
      },
      "cell_type": "code",
      "source": [
        "from sklearn.model_selection import KFold\n",
        "kf = KFold(n_splits=3, shuffle=True, random_state=20)\n",
        "tree_gs = treereg(max_depth=2,random_state=None, max_leaf_nodes=10)\n",
        "results = cross_val_score(tree_gs, X, y, cv=kf)\n",
        "print(\"CV accuracy score: {:.2f}%\".format(results.mean()*100))"
      ],
      "execution_count": 15,
      "outputs": [
        {
          "output_type": "stream",
          "text": [
            "CV accuracy score: -41.74%\n"
          ],
          "name": "stdout"
        }
      ]
    },
    {
      "metadata": {
        "id": "knyipZdu5o9-",
        "colab_type": "code",
        "colab": {
          "base_uri": "https://localhost:8080/",
          "height": 153
        },
        "outputId": "50ddb328-4398-4bb8-a366-0c2a76cd0558"
      },
      "cell_type": "code",
      "source": [
        "from sklearn.model_selection import GridSearchCV\n",
        "\n",
        "knn = KNeighborsRegressor()\n",
        "parameters = {'n_neighbors': (1,2,3,5,10), 'leaf_size': (10, 20,30,40), 'p' : (2,4,5,7)}\n",
        "gscv = GridSearchCV(estimator = knn, param_grid = parameters, n_jobs=-1, cv=5, )\n",
        "gscv.fit(X_train, y_train)"
      ],
      "execution_count": 16,
      "outputs": [
        {
          "output_type": "execute_result",
          "data": {
            "text/plain": [
              "GridSearchCV(cv=5, error_score='raise-deprecating',\n",
              "       estimator=KNeighborsRegressor(algorithm='auto', leaf_size=30, metric='minkowski',\n",
              "          metric_params=None, n_jobs=None, n_neighbors=5, p=2,\n",
              "          weights='uniform'),\n",
              "       fit_params=None, iid='warn', n_jobs=-1,\n",
              "       param_grid={'n_neighbors': (1, 2, 3, 5, 10), 'leaf_size': (10, 20, 30, 40), 'p': (2, 4, 5, 7)},\n",
              "       pre_dispatch='2*n_jobs', refit=True, return_train_score='warn',\n",
              "       scoring=None, verbose=0)"
            ]
          },
          "metadata": {
            "tags": []
          },
          "execution_count": 16
        }
      ]
    },
    {
      "metadata": {
        "id": "RU34xwCl5o-I",
        "colab_type": "code",
        "colab": {},
        "outputId": "4b8bfbcf-03e4-4313-e283-a73a24b8d719"
      },
      "cell_type": "code",
      "source": [
        "gscv.best_params_"
      ],
      "execution_count": 0,
      "outputs": [
        {
          "output_type": "execute_result",
          "data": {
            "text/plain": [
              "{'leaf_size': 20, 'n_neighbors': 10}"
            ]
          },
          "metadata": {
            "tags": []
          },
          "execution_count": 139
        }
      ]
    },
    {
      "metadata": {
        "id": "ZJQ_C0Lp5o-M",
        "colab_type": "code",
        "colab": {},
        "outputId": "a531f88c-1c53-477f-9bd1-18ac570c0954"
      },
      "cell_type": "code",
      "source": [
        "gscv.best_estimator_"
      ],
      "execution_count": 0,
      "outputs": [
        {
          "output_type": "execute_result",
          "data": {
            "text/plain": [
              "KNeighborsRegressor(algorithm='auto', leaf_size=20, metric='minkowski',\n",
              "          metric_params=None, n_jobs=None, n_neighbors=10, p=2,\n",
              "          weights='uniform')"
            ]
          },
          "metadata": {
            "tags": []
          },
          "execution_count": 140
        }
      ]
    },
    {
      "metadata": {
        "id": "xG35szYR5o-S",
        "colab_type": "code",
        "colab": {},
        "outputId": "a878c3f4-f9ea-414d-8223-2a25e07ae808"
      },
      "cell_type": "code",
      "source": [
        "gscv.score(X_test, y_test)"
      ],
      "execution_count": 0,
      "outputs": [
        {
          "output_type": "execute_result",
          "data": {
            "text/plain": [
              "-7.256152979619783"
            ]
          },
          "metadata": {
            "tags": []
          },
          "execution_count": 141
        }
      ]
    },
    {
      "metadata": {
        "id": "qZ0beVeJ5o-b",
        "colab_type": "code",
        "colab": {}
      },
      "cell_type": "code",
      "source": [
        "from sklearn.metrics import r2_score"
      ],
      "execution_count": 0,
      "outputs": []
    },
    {
      "metadata": {
        "id": "62B0bUxA5o-f",
        "colab_type": "code",
        "colab": {},
        "outputId": "99cc5612-99fa-4981-d917-7e9be3e7fa19"
      },
      "cell_type": "code",
      "source": [
        "r2_score(y_test, gscv.predict(X_test))"
      ],
      "execution_count": 0,
      "outputs": [
        {
          "output_type": "execute_result",
          "data": {
            "text/plain": [
              "-7.256152979619783"
            ]
          },
          "metadata": {
            "tags": []
          },
          "execution_count": 144
        }
      ]
    },
    {
      "metadata": {
        "id": "IcBXvCrt5o-m",
        "colab_type": "code",
        "colab": {}
      },
      "cell_type": "code",
      "source": [
        "import matplotlib.pyplot as plt"
      ],
      "execution_count": 0,
      "outputs": []
    },
    {
      "metadata": {
        "id": "MptuKEJg5o-p",
        "colab_type": "code",
        "colab": {},
        "outputId": "551eaaa0-e582-4a91-8edf-d0862ffe9a0a"
      },
      "cell_type": "code",
      "source": [
        "plt.scatter(y_test, gscv.predict(X_test))"
      ],
      "execution_count": 0,
      "outputs": [
        {
          "output_type": "execute_result",
          "data": {
            "text/plain": [
              "<matplotlib.collections.PathCollection at 0x6398fb0>"
            ]
          },
          "metadata": {
            "tags": []
          },
          "execution_count": 146
        },
        {
          "output_type": "display_data",
          "data": {
            "image/png": "[encoded data removed]",
            "text/plain": [
              "<Figure size 432x288 with 1 Axes>"
            ]
          },
          "metadata": {
            "tags": [],
            "needs_background": "light"
          }
        }
      ]
    },
    {
      "metadata": {
        "id": "nKgt8vup5o-0",
        "colab_type": "code",
        "colab": {},
        "outputId": "45e88f25-47df-4303-be4b-a5bf29bb32ef"
      },
      "cell_type": "code",
      "source": [
        "y_test.mean()"
      ],
      "execution_count": 0,
      "outputs": [
        {
          "output_type": "execute_result",
          "data": {
            "text/plain": [
              "-0.11780092642881097"
            ]
          },
          "metadata": {
            "tags": []
          },
          "execution_count": 149
        }
      ]
    },
    {
      "metadata": {
        "id": "0riXHQ-u5o-9",
        "colab_type": "code",
        "colab": {},
        "outputId": "7c7408a5-e21d-441f-b997-ce87979887f3"
      },
      "cell_type": "code",
      "source": [
        "gscv.predict(X_test).mean()"
      ],
      "execution_count": 0,
      "outputs": [
        {
          "output_type": "execute_result",
          "data": {
            "text/plain": [
              "0.032543919424761945"
            ]
          },
          "metadata": {
            "tags": []
          },
          "execution_count": 150
        }
      ]
    },
    {
      "metadata": {
        "id": "SJqwHJ905o_C",
        "colab_type": "code",
        "colab": {},
        "outputId": "53ed6701-b3a6-432a-aec8-4c94bebacf70"
      },
      "cell_type": "code",
      "source": [
        "gscv.score(X_train, y_train)"
      ],
      "execution_count": 0,
      "outputs": [
        {
          "output_type": "execute_result",
          "data": {
            "text/plain": [
              "0.03327160726286793"
            ]
          },
          "metadata": {
            "tags": []
          },
          "execution_count": 151
        }
      ]
    },
    {
      "metadata": {
        "id": "BOka_gaM5o_H",
        "colab_type": "code",
        "colab": {}
      },
      "cell_type": "code",
      "source": [
        ""
      ],
      "execution_count": 0,
      "outputs": []
    }
  ]
}