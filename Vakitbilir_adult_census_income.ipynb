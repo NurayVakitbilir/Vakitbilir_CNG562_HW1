{
  "nbformat": 4,
  "nbformat_minor": 0,
  "metadata": {
    "colab": {
      "name": "Vakitbilir_adult_census_income.ipynb",
      "version": "0.3.2",
      "provenance": [],
      "include_colab_link": true
    },
    "kernelspec": {
      "display_name": "Python 3",
      "language": "python",
      "name": "python3"
    }
  },
  "cells": [
    {
      "cell_type": "markdown",
      "metadata": {
        "id": "view-in-github",
        "colab_type": "text"
      },
      "source": [
        "<a href=\"https://colab.research.google.com/github/NurayVakitbilir/Vakitbilir_CNG562_HW1/blob/master/Vakitbilir_adult_census_income.ipynb\" target=\"_parent\"><img src=\"https://colab.research.google.com/assets/colab-badge.svg\" alt=\"Open In Colab\"/></a>"
      ]
    },
    {
      "metadata": {
        "id": "Vtej6o-OCOGV",
        "colab_type": "code",
        "colab": {}
      },
      "cell_type": "code",
      "source": [
        "import numpy as np\n",
        "import pandas as pd\n",
        "from sklearn.model_selection import train_test_split, GridSearchCV, cross_val_score\n",
        "from sklearn.metrics import accuracy_score"
      ],
      "execution_count": 0,
      "outputs": []
    },
    {
      "metadata": {
        "id": "XGZOswK3COGf",
        "colab_type": "code",
        "colab": {}
      },
      "cell_type": "code",
      "source": [
        "data_url='https://raw.githubusercontent.com/NurayVakitbilir/Vakitbilir_CNG562_HW1/master/adult.csv'\n",
        "income = pd.read_csv(data_url)\n",
        "\n",
        "# IMPUTING STEP\n",
        "income = income.replace({'?' : np.nan}).dropna()"
      ],
      "execution_count": 0,
      "outputs": []
    },
    {
      "metadata": {
        "id": "3Ruqkj4sCOGj",
        "colab_type": "code",
        "colab": {}
      },
      "cell_type": "code",
      "source": [
        "import warnings \n",
        "warnings.filterwarnings('ignore')"
      ],
      "execution_count": 0,
      "outputs": []
    },
    {
      "metadata": {
        "id": "_1Jxv6jECOGo",
        "colab_type": "code",
        "colab": {}
      },
      "cell_type": "code",
      "source": [
        "from sklearn import preprocessing \n",
        "from sklearn.pipeline import Pipeline\n",
        "from sklearn.compose import ColumnTransformer\n",
        "from sklearn.preprocessing import OneHotEncoder, MaxAbsScaler"
      ],
      "execution_count": 0,
      "outputs": []
    },
    {
      "metadata": {
        "id": "u7EyXfBKCOGt",
        "colab_type": "code",
        "colab": {}
      },
      "cell_type": "code",
      "source": [
        "categorical_features = ['workclass', \n",
        "                       'education',\n",
        "                       'marital.status', \n",
        "                       'occupation', \n",
        "                       'relationship', \n",
        "                       'race', \n",
        "                       'sex', \n",
        "                       'native.country']"
      ],
      "execution_count": 0,
      "outputs": []
    },
    {
      "metadata": {
        "id": "xbVPPFXECOGy",
        "colab_type": "code",
        "colab": {}
      },
      "cell_type": "code",
      "source": [
        "categorical_transformer = Pipeline(steps=[('onehot', OneHotEncoder(handle_unknown='ignore'))])\n",
        "\n",
        "ct = ColumnTransformer(transformers=[('categorical_transformer',\n",
        "                                      categorical_transformer,\n",
        "                                      categorical_features)], remainder='passthrough')\n",
        "X = ct.fit_transform(income.drop('income', axis=1))\n",
        "y = income['income'] == '>50K'"
      ],
      "execution_count": 0,
      "outputs": []
    },
    {
      "metadata": {
        "id": "QgZUwx5zCOG3",
        "colab_type": "code",
        "colab": {}
      },
      "cell_type": "code",
      "source": [
        "X_scaled = MaxAbsScaler().fit_transform(X)"
      ],
      "execution_count": 0,
      "outputs": []
    },
    {
      "metadata": {
        "id": "UqMu4dDCCOG8",
        "colab_type": "code",
        "colab": {}
      },
      "cell_type": "code",
      "source": [
        "X_train, X_test, y_train, y_test = train_test_split(X, y, test_size = 0.5)"
      ],
      "execution_count": 0,
      "outputs": []
    },
    {
      "metadata": {
        "scrolled": true,
        "id": "UMJw8nrzCOHA",
        "colab_type": "code",
        "colab": {
          "base_uri": "https://localhost:8080/",
          "height": 51
        },
        "outputId": "ca084b61-de66-4100-fd6f-61c2aac40f73"
      },
      "cell_type": "code",
      "source": [
        "from sklearn.tree import DecisionTreeClassifier \n",
        "tree = DecisionTreeClassifier(max_leaf_nodes=5, random_state=30).fit(X_train, y_train)\n",
        "print('Accuracy as for train decision tree:', accuracy_score(y_train, tree.predict(X_train)))\n",
        "print('Accuracy as for test decision tree:', accuracy_score(y_test, tree.predict(X_test)))"
      ],
      "execution_count": 9,
      "outputs": [
        {
          "output_type": "stream",
          "text": [
            "Accuracy as for train decision tree: 0.8413898282607254\n",
            "Accuracy as for test decision tree: 0.8391353358530601\n"
          ],
          "name": "stdout"
        }
      ]
    },
    {
      "metadata": {
        "id": "BTyPdQQeCOHK",
        "colab_type": "code",
        "colab": {
          "base_uri": "https://localhost:8080/",
          "height": 51
        },
        "outputId": "5caa6188-9d9d-4e1b-e934-a4d8ad2e1707"
      },
      "cell_type": "code",
      "source": [
        "from sklearn.linear_model import LogisticRegression\n",
        "log_reg = LogisticRegression(penalty='l2',random_state=150,solver='lbfgs',multi_class='ovr').fit(X_train, y_train)\n",
        "log_reg.fit(X_train, y_train)\n",
        "log_reg_pred = log_reg.predict(X_test)\n",
        "print('Accuracy as for traning Logistic Regression:', accuracy_score(y_train, log_reg.predict(X_train)))\n",
        "print('Accuracy as for test Logistic Regression:', accuracy_score(y_test, log_reg.predict(X_test)))"
      ],
      "execution_count": 10,
      "outputs": [
        {
          "output_type": "stream",
          "text": [
            "Accuracy as for traning Logistic Regression: 0.7878124792785625\n",
            "Accuracy as for test Logistic Regression: 0.7923877726941184\n"
          ],
          "name": "stdout"
        }
      ]
    },
    {
      "metadata": {
        "id": "i3aKqbXBCOHT",
        "colab_type": "code",
        "colab": {
          "base_uri": "https://localhost:8080/",
          "height": 51
        },
        "outputId": "74bbf2b4-7a63-43eb-f61e-3a5dc10be86d"
      },
      "cell_type": "code",
      "source": [
        "from sklearn.svm import LinearSVR\n",
        "svm_lin = LinearSVR(epsilon=0, random_state=0, max_iter=2000, tol=0.0001)\n",
        "svm_lin.fit(X_train, y_train)\n",
        "svm_lin_pred = svm_lin.predict(X_test)\n",
        "from sklearn.metrics import mean_squared_error\n",
        "print('MSE as traning for Support Vector Machine:', mean_squared_error(y_train, svm_lin.predict(X_train)))\n",
        "print('MSE as test for Support Vector Machine:', mean_squared_error(y_test, svm_lin.predict(X_test)))"
      ],
      "execution_count": 11,
      "outputs": [
        {
          "output_type": "stream",
          "text": [
            "MSE as traning for Support Vector Machine: 0.2772963541494582\n",
            "MSE as test for Support Vector Machine: 0.2770217382109079\n"
          ],
          "name": "stdout"
        }
      ]
    },
    {
      "metadata": {
        "id": "D1cirbexCOHa",
        "colab_type": "code",
        "colab": {}
      },
      "cell_type": "code",
      "source": [
        "from sklearn.neighbors import KNeighborsClassifier\n",
        "\n",
        "#Memory error with K-Neighbors Classifier\n",
        "\n",
        "#knn = KNeighborsClassifier(n_neighbors=5,algorithm='kd_tree').fit(X_train, y_train)\n",
        "#print('as for train knn:', accuracy_score(y_train, knn.predict(X_train)))\n",
        "#print('as for test knn:', accuracy_score(y_test, knn.predict(X_test)))"
      ],
      "execution_count": 0,
      "outputs": []
    },
    {
      "metadata": {
        "id": "vawZ8iWNCOHe",
        "colab_type": "code",
        "colab": {}
      },
      "cell_type": "code",
      "source": [
        ""
      ],
      "execution_count": 0,
      "outputs": []
    }
  ]
}